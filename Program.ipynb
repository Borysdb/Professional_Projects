{
  "nbformat": 4,
  "nbformat_minor": 0,
  "metadata": {
    "colab": {
      "provenance": [],
      "collapsed_sections": [],
      "include_colab_link": true
    },
    "kernelspec": {
      "name": "python3",
      "display_name": "Python 3"
    },
    "language_info": {
      "name": "python"
    }
  },
  "cells": [
    {
      "cell_type": "markdown",
      "metadata": {
        "id": "view-in-github",
        "colab_type": "text"
      },
      "source": [
        "<a href=\"https://colab.research.google.com/github/Borysdb/Project_1_Password_Generator_in_Python/blob/main/Program.ipynb\" target=\"_parent\"><img src=\"https://colab.research.google.com/assets/colab-badge.svg\" alt=\"Open In Colab\"/></a>"
      ]
    },
    {
      "cell_type": "markdown",
      "source": [
        "Text Space"
      ],
      "metadata": {
        "id": "RZz9Ps6PyBrU"
      }
    },
    {
      "cell_type": "code",
      "execution_count": 15,
      "metadata": {
        "colab": {
          "base_uri": "https://localhost:8080/"
        },
        "id": "djpSKM98x0LI",
        "outputId": "0b89b2b3-7eb4-4b6a-ead6-14ad8b4e8282"
      },
      "outputs": [
        {
          "output_type": "stream",
          "name": "stdout",
          "text": [
            "Hello Grandma! \n",
            "\n",
            "We are so sorry your European Union account was hacked! \n",
            "We'll create a new STRONG password for you! ❤❤❤❤\n",
            "\n",
            "\n",
            "Please provide your username (so we can exclude it from our calculations): damian\n",
            "Your username is:  damian\n",
            "\n",
            "\n",
            "Thank you, please provide a memorable WORD (maximum 8 letters) \n",
            "-> We will use it to create your PASSWORD: damian\n",
            "\n",
            "\n",
            "Wrrrr \n",
            " Brrrr \n",
            " Processing your request... \n",
            "Voila!\n",
            "\n",
            "\n",
            "Thank you, please provide a year (max 4 digits) that is significant for you :) \n",
            "-> We will use it to create your PASSWORD: 1989\n",
            "\n",
            "\n",
            "Brrrr \n",
            " Wrrrr \n",
            " Processing your request... \n",
            "Ta dam!\n",
            "\n",
            "\n",
            "Perfect, we would like to present your new, super-secure PASSWORD: D1\\A9/M8:I9*a?N<>\n",
            "\n",
            "\n",
            "Please be honest, do you like your new password? \n",
            "If yes - please write YES \n",
            "If no - please write NO \n",
            "If you are tired with us already and want to leave... Please write EXIT asdfg1\n",
            "\n",
            "\n",
            "Ups no correct answer was selected! \n",
            "Program will Exit now\n"
          ]
        }
      ],
      "source": [
        "# Program to Generate Strong Random Password\n",
        "# Main customer of aplication -> Grandma\n",
        "\n",
        "from random import Random\n",
        "from random import choice\n",
        "from itertools import zip_longest\n",
        "\n",
        "#Welcome part\n",
        "print(\"Hello Grandma! \\n\\nWe are so sorry your European Union account was hacked! \\nWe'll create a new STRONG password for you! ❤❤❤❤\")\n",
        "print(\"\\n\")\n",
        "\n",
        "name = input(\"Please provide your username (so we can exclude it from our calculations): \")\n",
        "print(\"Your username is: \",name)\n",
        "print(\"\\n\")\n",
        "\n",
        "#Word and Year input + Error check\n",
        "\n",
        "#part 1 - word\n",
        "s=+True\n",
        "while s==True:\n",
        "   word = input(\"Thank you, please provide a memorable WORD (maximum 8 letters) \\n-> We will use it to create your PASSWORD: \")\n",
        "\n",
        "   if word.isalpha() and len(word) <= 8:\n",
        "       print(\"\\n\")\n",
        "       print(\"Wrrrr \\n Brrrr \\n Processing your request... \\nVoila!\")\n",
        "       s=False\n",
        "       print(\"\\n\")\n",
        "   elif word.isnumeric:\n",
        "       print(\"Oh No! Word should be only letters, and a max of 8! Please try again: \")\n",
        "       print(\"\\n\")\n",
        "\n",
        "word2 = ''.join(choice((str.upper, str.lower))(w) for w in word)\n",
        "\n",
        "#---------------------------------------------------\n",
        "\n",
        "#part 2 - year\n",
        "\n",
        "s2=+True\n",
        "year = input(\"Thank you, please provide a year (max 4 digits) that is significant for you :) \\n-> We will use it to create your PASSWORD: \")\n",
        "print(\"\\n\")\n",
        "while s2==True:\n",
        "  if year.isdigit() and len(year) <= 4:\n",
        "    print(\"Brrrr \\n Wrrrr \\n Processing your request... \\nTa dam!\")\n",
        "    s2=False\n",
        "    print(\"\\n\")\n",
        "  elif year.isalpha:\n",
        "      print(\"Oh No! Year should be only digits, and a max of 4! Please try again: \")\n",
        "      s2=False\n",
        "      print(\"\\n\")\n",
        "\n",
        "#Add special characters\n",
        "\n",
        "spec_char = (\"\\/:*?<>\")\n",
        "\n",
        "#Create list of memorable word + memorable year + special charachers\n",
        "\n",
        "plist = list(word2 + year + spec_char)\n",
        "\n",
        "#Merge the lists and alternate numbers with letters\n",
        "\n",
        "num_list = list(word2)\n",
        "chr_list = list(year)\n",
        "\n",
        "res = [ele for sub in zip_longest(num_list, chr_list, spec_char)\n",
        "  for ele in sub if ele]\n",
        "pstring = \"\".join(res)\n",
        "\n",
        "\n",
        "print(\"Perfect, we would like to present your new, super-secure PASSWORD: \"+ pstring)\n",
        "print(\"\\n\")\n",
        "\n",
        "final_output = input(\"Please be honest, do you like your new password? \\nIf yes - please write YES \\nIf no - please write NO \\nIf you are tired with us already and want to leave... Please write EXIT \")\n",
        "\n",
        "Jes = (\"YES\")\n",
        "Nos = (\"NO\")\n",
        "Ess = (\"EXIT\")\n",
        "\n",
        "if final_output.upper() == Jes  :\n",
        "  print(\"\\n\")\n",
        "  print(\"Thank you! It's been pleasure to help :) \\nps. You are the best Grandma!!!\")\n",
        "elif final_output.upper() == Nos :\n",
        "    print(\"\\n\")\n",
        "    print(\"We are sorry to hear this, but we understand it can be a bit too complex... Lets try again! \\n\\nbzzz bzzz bzzz unexpected error 404 \\n\\nSystem is closing down - please strt the program again!\")\n",
        "elif final_output.upper() == Ess :\n",
        "    print(\"\\n\")\n",
        "    print(\"Good bye Grandma :)\")\n",
        "else:\n",
        "    print(\"\\n\")\n",
        "    print(\"Ups no correct answer was selected! \\nProgram will Exit now\")\n"
      ]
    }
  ]
}