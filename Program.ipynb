{
  "nbformat": 4,
  "nbformat_minor": 0,
  "metadata": {
    "colab": {
      "provenance": [],
      "collapsed_sections": [],
      "authorship_tag": "ABX9TyMXWBodKIlJo6+WxSMd6FP2",
      "include_colab_link": true
    },
    "kernelspec": {
      "name": "python3",
      "display_name": "Python 3"
    },
    "language_info": {
      "name": "python"
    }
  },
  "cells": [
    {
      "cell_type": "markdown",
      "metadata": {
        "id": "view-in-github",
        "colab_type": "text"
      },
      "source": [
        "<a href=\"https://colab.research.google.com/github/Borysdb/Project_1_Password_Generator_in_Python/blob/main/Program.ipynb\" target=\"_parent\"><img src=\"https://colab.research.google.com/assets/colab-badge.svg\" alt=\"Open In Colab\"/></a>"
      ]
    },
    {
      "cell_type": "markdown",
      "source": [
        "Text Space"
      ],
      "metadata": {
        "id": "RZz9Ps6PyBrU"
      }
    },
    {
      "cell_type": "code",
      "execution_count": 65,
      "metadata": {
        "colab": {
          "base_uri": "https://localhost:8080/",
          "height": 710
        },
        "id": "djpSKM98x0LI",
        "outputId": "909196a5-a3ae-4a70-dac6-9229eacb3059"
      },
      "outputs": [
        {
          "output_type": "stream",
          "name": "stdout",
          "text": [
            "Hello Grandma! \n",
            "\n",
            "We are so sorry your European Union account was hacked! \n",
            "We'll create a new STRONG password for you! ❤❤❤❤\n",
            "\n",
            "\n",
            "Please provide your username (so we can exclude it from our calculations): sdse\n",
            "Your username is:  sdse\n",
            "\n",
            "\n",
            "Thank you, please provide a memorable WORD (maximum 8 letters) \n",
            "-> We will use it to create your PASSWORD: srds\n",
            "Wrrrr \n",
            " Brrrr \n",
            " Processing your request... \n",
            "Voila!\n",
            "Thank you, please provide a year (max 4 digits) that is significant for you :) \n",
            "-> We will use it to create your PASSWORD: 1234\n",
            "1234\n"
          ]
        },
        {
          "output_type": "error",
          "ename": "KeyboardInterrupt",
          "evalue": "ignored",
          "traceback": [
            "\u001b[0;31m---------------------------------------------------------------------------\u001b[0m",
            "\u001b[0;31mKeyboardInterrupt\u001b[0m                         Traceback (most recent call last)",
            "\u001b[0;32m<ipython-input-65-367f73746b3e>\u001b[0m in \u001b[0;36m<module>\u001b[0;34m\u001b[0m\n\u001b[1;32m     30\u001b[0m \u001b[0;34m\u001b[0m\u001b[0m\n\u001b[1;32m     31\u001b[0m \u001b[0mprint\u001b[0m\u001b[0;34m(\u001b[0m\u001b[0minput\u001b[0m\u001b[0;34m(\u001b[0m\u001b[0;34m\"Thank you, please provide a year (max 4 digits) that is significant for you :) \\n-> We will use it to create your PASSWORD: \"\u001b[0m\u001b[0;34m)\u001b[0m\u001b[0;34m)\u001b[0m\u001b[0;34m\u001b[0m\u001b[0;34m\u001b[0m\u001b[0m\n\u001b[0;32m---> 32\u001b[0;31m \u001b[0myear\u001b[0m \u001b[0;34m=\u001b[0m \u001b[0minput\u001b[0m\u001b[0;34m(\u001b[0m\u001b[0;34m\"Thank you, please provide a year (max 4 digits) that is significant for you :) \\n-> We will use it to create your PASSWORD: \"\u001b[0m\u001b[0;34m)\u001b[0m\u001b[0;34m\u001b[0m\u001b[0;34m\u001b[0m\u001b[0m\n\u001b[0m\u001b[1;32m     33\u001b[0m \u001b[0mprint\u001b[0m\u001b[0;34m(\u001b[0m\u001b[0;34m\"\\n\"\u001b[0m\u001b[0;34m)\u001b[0m\u001b[0;34m\u001b[0m\u001b[0;34m\u001b[0m\u001b[0m\n\u001b[1;32m     34\u001b[0m \u001b[0;34m\u001b[0m\u001b[0m\n",
            "\u001b[0;32m/usr/local/lib/python3.7/dist-packages/ipykernel/kernelbase.py\u001b[0m in \u001b[0;36mraw_input\u001b[0;34m(self, prompt)\u001b[0m\n\u001b[1;32m    861\u001b[0m             \u001b[0mself\u001b[0m\u001b[0;34m.\u001b[0m\u001b[0m_parent_ident\u001b[0m\u001b[0;34m,\u001b[0m\u001b[0;34m\u001b[0m\u001b[0;34m\u001b[0m\u001b[0m\n\u001b[1;32m    862\u001b[0m             \u001b[0mself\u001b[0m\u001b[0;34m.\u001b[0m\u001b[0m_parent_header\u001b[0m\u001b[0;34m,\u001b[0m\u001b[0;34m\u001b[0m\u001b[0;34m\u001b[0m\u001b[0m\n\u001b[0;32m--> 863\u001b[0;31m             \u001b[0mpassword\u001b[0m\u001b[0;34m=\u001b[0m\u001b[0;32mFalse\u001b[0m\u001b[0;34m,\u001b[0m\u001b[0;34m\u001b[0m\u001b[0;34m\u001b[0m\u001b[0m\n\u001b[0m\u001b[1;32m    864\u001b[0m         )\n\u001b[1;32m    865\u001b[0m \u001b[0;34m\u001b[0m\u001b[0m\n",
            "\u001b[0;32m/usr/local/lib/python3.7/dist-packages/ipykernel/kernelbase.py\u001b[0m in \u001b[0;36m_input_request\u001b[0;34m(self, prompt, ident, parent, password)\u001b[0m\n\u001b[1;32m    902\u001b[0m             \u001b[0;32mexcept\u001b[0m \u001b[0mKeyboardInterrupt\u001b[0m\u001b[0;34m:\u001b[0m\u001b[0;34m\u001b[0m\u001b[0;34m\u001b[0m\u001b[0m\n\u001b[1;32m    903\u001b[0m                 \u001b[0;31m# re-raise KeyboardInterrupt, to truncate traceback\u001b[0m\u001b[0;34m\u001b[0m\u001b[0;34m\u001b[0m\u001b[0;34m\u001b[0m\u001b[0m\n\u001b[0;32m--> 904\u001b[0;31m                 \u001b[0;32mraise\u001b[0m \u001b[0mKeyboardInterrupt\u001b[0m\u001b[0;34m(\u001b[0m\u001b[0;34m\"Interrupted by user\"\u001b[0m\u001b[0;34m)\u001b[0m \u001b[0;32mfrom\u001b[0m \u001b[0;32mNone\u001b[0m\u001b[0;34m\u001b[0m\u001b[0;34m\u001b[0m\u001b[0m\n\u001b[0m\u001b[1;32m    905\u001b[0m             \u001b[0;32mexcept\u001b[0m \u001b[0mException\u001b[0m \u001b[0;32mas\u001b[0m \u001b[0me\u001b[0m\u001b[0;34m:\u001b[0m\u001b[0;34m\u001b[0m\u001b[0;34m\u001b[0m\u001b[0m\n\u001b[1;32m    906\u001b[0m                 \u001b[0mself\u001b[0m\u001b[0;34m.\u001b[0m\u001b[0mlog\u001b[0m\u001b[0;34m.\u001b[0m\u001b[0mwarning\u001b[0m\u001b[0;34m(\u001b[0m\u001b[0;34m\"Invalid Message:\"\u001b[0m\u001b[0;34m,\u001b[0m \u001b[0mexc_info\u001b[0m\u001b[0;34m=\u001b[0m\u001b[0;32mTrue\u001b[0m\u001b[0;34m)\u001b[0m\u001b[0;34m\u001b[0m\u001b[0;34m\u001b[0m\u001b[0m\n",
            "\u001b[0;31mKeyboardInterrupt\u001b[0m: Interrupted by user"
          ]
        }
      ],
      "source": [
        "# Program to Generate Strong Random Password\n",
        "# Main customer of aplication -> Grandma\n",
        "\n",
        "from random import Random\n",
        "from random import choice\n",
        "\n",
        "text1 = (\"Hello Grandma! \\n\\nWe are so sorry your European Union account was hacked! \\nWe'll create a new STRONG password for you! ❤❤❤❤\")\n",
        "print(text1)\n",
        "\n",
        "print(\"\\n\")\n",
        "\n",
        "name = input(\"Please provide your username (so we can exclude it from our calculations): \")\n",
        "\n",
        "print(\"Your username is: \",name)\n",
        "\n",
        "print(\"\\n\")\n",
        "\n",
        "s=+True\n",
        "while s==True:\n",
        "#Word Error check\n",
        "   word = input(\"Thank you, please provide a memorable WORD (maximum 8 letters) \\n-> We will use it to create your PASSWORD: \")\n",
        "\n",
        "   if word.isalpha() and len(word) <= 8:\n",
        "       print(\"Wrrrr \\n Brrrr \\n Processing your request... \\nVoila!\")\n",
        "       s=False\n",
        "\n",
        "   elif word.isnumeric:\n",
        "       print(\"Oh No! Word should be only letters, and a max of 8! Please try again: \")\n",
        "s2=+True\n",
        "\n",
        "print(input(\"Thank you, please provide a year (max 4 digits) that is significant for you :) \\n-> We will use it to create your PASSWORD: \"))\n",
        "year = input(\"Thank you, please provide a year (max 4 digits) that is significant for you :) \\n-> We will use it to create your PASSWORD: \")\n",
        "print(\"\\n\")\n",
        "\n",
        "while s2==True:\n",
        "  if year.isdigit() and len(year) <= 4:\n",
        "    print(\"Wrrrr \\n Brrrr \\n Processing your request... \\nVoila!\")\n",
        "    s=False\n",
        "  elif year.isalpha:\n",
        "    input(\"Oh No! Year should be only digits, and a max of 4! Please try again: \")\n",
        "  elif len(year) > 4:\n",
        "    input(\"Oh No! Year should be only digits, and a max of 4! Please try again: \")\n",
        "#word_capitalized = ''.join(choice((str.upper, str.lower))(c) for c in word)\n",
        "\n",
        "#print(word_capitalized)\n",
        "\n",
        "\n",
        "\n",
        "\n",
        "\n",
        "\n",
        "\n",
        "\n",
        "\n",
        "#print(input(\"Thank you, please provide a year (max 4 digits) that is significant for you :) \\n-> We will use it to create your PASSWORD: \"))\n",
        "\n",
        "#print(\"\\n\")\n",
        "\n",
        "\n",
        "#Below to be printed after both word and number variables are provided correctly by input\n",
        "#text2 = \"Print: Wrrr \\nBrrrr \\nBum bam bum\"\n",
        "#print(text2)"
      ]
    },
    {
      "cell_type": "code",
      "source": [
        "\"\"\"\n",
        "#Year Error check\n",
        "if year.isdigit() and len(year) <= 4:\n",
        "  print(\"Wrrrr \\n Brrrr \\n Processing your request... \\nVoila!\")\n",
        "elif year.isdigit(False) and len(year) > 4:\n",
        "  input(\"Oh No! Year should be only digits, and a max of 4! Please try again: \")\n",
        "\n",
        "\n",
        "\n",
        "\"\"\""
      ],
      "metadata": {
        "id": "CND3YEoHNKmh"
      },
      "execution_count": null,
      "outputs": []
    }
  ]
}