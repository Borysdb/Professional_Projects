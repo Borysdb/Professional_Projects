{
  "nbformat": 4,
  "nbformat_minor": 0,
  "metadata": {
    "colab": {
      "provenance": [],
      "collapsed_sections": [],
      "include_colab_link": true
    },
    "kernelspec": {
      "name": "python3",
      "display_name": "Python 3"
    },
    "language_info": {
      "name": "python"
    }
  },
  "cells": [
    {
      "cell_type": "markdown",
      "metadata": {
        "id": "view-in-github",
        "colab_type": "text"
      },
      "source": [
        "<a href=\"https://colab.research.google.com/github/Borysdb/Project_1_Password_Generator_in_Python/blob/main/Program.ipynb\" target=\"_parent\"><img src=\"https://colab.research.google.com/assets/colab-badge.svg\" alt=\"Open In Colab\"/></a>"
      ]
    },
    {
      "cell_type": "markdown",
      "source": [
        "Text Space"
      ],
      "metadata": {
        "id": "RZz9Ps6PyBrU"
      }
    },
    {
      "cell_type": "code",
      "execution_count": 11,
      "metadata": {
        "colab": {
          "base_uri": "https://localhost:8080/",
          "height": 484
        },
        "id": "djpSKM98x0LI",
        "outputId": "a6fd733b-0eb3-404b-8dff-97532e930f10"
      },
      "outputs": [
        {
          "output_type": "stream",
          "name": "stdout",
          "text": [
            "Hello Grandma! \n",
            "\n",
            "We are so sorry your European Union account was hacked! \n",
            "We'll create a new STRONG password for you! ❤❤❤❤\n",
            "\n",
            "\n"
          ]
        },
        {
          "output_type": "error",
          "ename": "KeyboardInterrupt",
          "evalue": "ignored",
          "traceback": [
            "\u001b[0;31m---------------------------------------------------------------------------\u001b[0m",
            "\u001b[0;31mKeyboardInterrupt\u001b[0m                         Traceback (most recent call last)",
            "\u001b[0;32m<ipython-input-11-f50cb56bbe53>\u001b[0m in \u001b[0;36m<module>\u001b[0;34m\u001b[0m\n\u001b[1;32m     10\u001b[0m \u001b[0mprint\u001b[0m\u001b[0;34m(\u001b[0m\u001b[0;34m\"\\n\"\u001b[0m\u001b[0;34m)\u001b[0m\u001b[0;34m\u001b[0m\u001b[0;34m\u001b[0m\u001b[0m\n\u001b[1;32m     11\u001b[0m \u001b[0;34m\u001b[0m\u001b[0m\n\u001b[0;32m---> 12\u001b[0;31m \u001b[0mname\u001b[0m \u001b[0;34m=\u001b[0m \u001b[0minput\u001b[0m\u001b[0;34m(\u001b[0m\u001b[0;34m\"Please provide your username (so we can exclude it from our calculations): \"\u001b[0m\u001b[0;34m)\u001b[0m\u001b[0;34m\u001b[0m\u001b[0;34m\u001b[0m\u001b[0m\n\u001b[0m\u001b[1;32m     13\u001b[0m \u001b[0mprint\u001b[0m\u001b[0;34m(\u001b[0m\u001b[0;34m\"Your username is: \"\u001b[0m\u001b[0;34m,\u001b[0m\u001b[0mname\u001b[0m\u001b[0;34m)\u001b[0m\u001b[0;34m\u001b[0m\u001b[0;34m\u001b[0m\u001b[0m\n\u001b[1;32m     14\u001b[0m \u001b[0mprint\u001b[0m\u001b[0;34m(\u001b[0m\u001b[0;34m\"\\n\"\u001b[0m\u001b[0;34m)\u001b[0m\u001b[0;34m\u001b[0m\u001b[0;34m\u001b[0m\u001b[0m\n",
            "\u001b[0;32m/usr/local/lib/python3.7/dist-packages/ipykernel/kernelbase.py\u001b[0m in \u001b[0;36mraw_input\u001b[0;34m(self, prompt)\u001b[0m\n\u001b[1;32m    861\u001b[0m             \u001b[0mself\u001b[0m\u001b[0;34m.\u001b[0m\u001b[0m_parent_ident\u001b[0m\u001b[0;34m,\u001b[0m\u001b[0;34m\u001b[0m\u001b[0;34m\u001b[0m\u001b[0m\n\u001b[1;32m    862\u001b[0m             \u001b[0mself\u001b[0m\u001b[0;34m.\u001b[0m\u001b[0m_parent_header\u001b[0m\u001b[0;34m,\u001b[0m\u001b[0;34m\u001b[0m\u001b[0;34m\u001b[0m\u001b[0m\n\u001b[0;32m--> 863\u001b[0;31m             \u001b[0mpassword\u001b[0m\u001b[0;34m=\u001b[0m\u001b[0;32mFalse\u001b[0m\u001b[0;34m,\u001b[0m\u001b[0;34m\u001b[0m\u001b[0;34m\u001b[0m\u001b[0m\n\u001b[0m\u001b[1;32m    864\u001b[0m         )\n\u001b[1;32m    865\u001b[0m \u001b[0;34m\u001b[0m\u001b[0m\n",
            "\u001b[0;32m/usr/local/lib/python3.7/dist-packages/ipykernel/kernelbase.py\u001b[0m in \u001b[0;36m_input_request\u001b[0;34m(self, prompt, ident, parent, password)\u001b[0m\n\u001b[1;32m    902\u001b[0m             \u001b[0;32mexcept\u001b[0m \u001b[0mKeyboardInterrupt\u001b[0m\u001b[0;34m:\u001b[0m\u001b[0;34m\u001b[0m\u001b[0;34m\u001b[0m\u001b[0m\n\u001b[1;32m    903\u001b[0m                 \u001b[0;31m# re-raise KeyboardInterrupt, to truncate traceback\u001b[0m\u001b[0;34m\u001b[0m\u001b[0;34m\u001b[0m\u001b[0;34m\u001b[0m\u001b[0m\n\u001b[0;32m--> 904\u001b[0;31m                 \u001b[0;32mraise\u001b[0m \u001b[0mKeyboardInterrupt\u001b[0m\u001b[0;34m(\u001b[0m\u001b[0;34m\"Interrupted by user\"\u001b[0m\u001b[0;34m)\u001b[0m \u001b[0;32mfrom\u001b[0m \u001b[0;32mNone\u001b[0m\u001b[0;34m\u001b[0m\u001b[0;34m\u001b[0m\u001b[0m\n\u001b[0m\u001b[1;32m    905\u001b[0m             \u001b[0;32mexcept\u001b[0m \u001b[0mException\u001b[0m \u001b[0;32mas\u001b[0m \u001b[0me\u001b[0m\u001b[0;34m:\u001b[0m\u001b[0;34m\u001b[0m\u001b[0;34m\u001b[0m\u001b[0m\n\u001b[1;32m    906\u001b[0m                 \u001b[0mself\u001b[0m\u001b[0;34m.\u001b[0m\u001b[0mlog\u001b[0m\u001b[0;34m.\u001b[0m\u001b[0mwarning\u001b[0m\u001b[0;34m(\u001b[0m\u001b[0;34m\"Invalid Message:\"\u001b[0m\u001b[0;34m,\u001b[0m \u001b[0mexc_info\u001b[0m\u001b[0;34m=\u001b[0m\u001b[0;32mTrue\u001b[0m\u001b[0;34m)\u001b[0m\u001b[0;34m\u001b[0m\u001b[0;34m\u001b[0m\u001b[0m\n",
            "\u001b[0;31mKeyboardInterrupt\u001b[0m: Interrupted by user"
          ]
        }
      ],
      "source": [
        "# Program to Generate Strong Random Password\n",
        "# Main customer of aplication -> Grandma\n",
        "\n",
        "from random import Random\n",
        "from random import choice\n",
        "from itertools import zip_longest\n",
        "\n",
        "#Welcome part\n",
        "print(\"Hello Grandma! \\n\\nWe are so sorry your European Union account was hacked! \\nWe'll create a new STRONG password for you! ❤❤❤❤\")\n",
        "print(\"\\n\")\n",
        "\n",
        "name = input(\"Please provide your username (so we can exclude it from our calculations): \")\n",
        "print(\"Your username is: \",name)\n",
        "print(\"\\n\")\n",
        "\n",
        "#Word and Year input + Error check\n",
        "\n",
        "#part 1 - word\n",
        "s=+True\n",
        "while s==True:\n",
        "   word = input(\"Thank you, please provide a memorable WORD (maximum 8 letters) \\n-> We will use it to create your PASSWORD: \")\n",
        "\n",
        "   if word.isalpha() and len(word) <= 8:\n",
        "       print(\"Wrrrr \\n Brrrr \\n Processing your request... \\nVoila!\")\n",
        "       s=False\n",
        "       print(\"\\n\")\n",
        "   elif word.isnumeric:\n",
        "       print(\"Oh No! Word should be only letters, and a max of 8! Please try again: \")\n",
        "       print(\"\\n\")\n",
        "\n",
        "word2 = ''.join(choice((str.upper, str.lower))(w) for w in word)\n",
        "\n",
        "\n",
        "\n",
        "#---------------------------------------------------\n",
        "\n",
        "#part 2 - year\n",
        "\n",
        "s2=+True\n",
        "year = input(\"Thank you, please provide a year (max 4 digits) that is significant for you :) \\n-> We will use it to create your PASSWORD: \")\n",
        "print(\"\\n\")\n",
        "while s2==True:\n",
        "  if year.isdigit() and len(year) <= 4:\n",
        "    print(\"Brrrr \\n Wrrrr \\n Processing your request... \\nTa dam!\")\n",
        "    s2=False\n",
        "    print(\"\\n\")\n",
        "  elif year.isalpha:\n",
        "      print(\"Oh No! Year should be only digits, and a max of 4! Please try again: \")\n",
        "      s2=False\n",
        "      print(\"\\n\")\n",
        "\n",
        "#Add special characters\n",
        "\n",
        "spec_char = (\"\\/:*?'<>|\")\n",
        "\n",
        "#Create list of memorable word + memorable year + special charachers\n",
        "\n",
        "plist = list(word2 + year + spec_char)\n",
        "\n",
        "#Merge the lists and alternate numbers with letters\n",
        "\n",
        "num_list = list(word2)\n",
        "chr_list = list(year)\n",
        "\n",
        "res = [ele for sub in zip_longest(num_list, chr_list, spec_char)\n",
        "  for ele in sub if ele]\n",
        "pstring = \"\".join(res)\n",
        "\n",
        "\n",
        "print(\"Perfect, we would like to present your new, super-secure PASSWORD: \"+ pstring)\n",
        "print(\"\\n\")\n",
        "\n",
        "final_output = input(\"Please be honest, do you like your new password? \\nIf yes - please write YES \\nIf no - please write NO \\nIf you are tired with us already and want to leave... Please write EXIT \")\n",
        "\n",
        "Jes = (\"YES\")\n",
        "Nos = (\"NO\")\n",
        "Ess = (\"EXIT\")\n",
        "\n",
        "if Final.upper == Jes :\n",
        "  print(\"Thank you! It's been pleasure to help :) \\nps. You are the best Grandma!!!\")\n",
        "  #elif Final.upper == Nos :\n",
        "    #print(\"We are sorry to hear this, but we understand it can be a bit too complex... Lets try again! \\n bzzz bzzz bzzz unexpected error 404 \\nSystem is closing down - please call Evan for help!\")\n",
        "    #print(\"\\n\")\n",
        "  #elif Final.upper == Ess :\n",
        "    #print(\"Good bye Grandma :)\")\n",
        "    #print(\"\\n\")\n",
        "#else:\n",
        "    #print(\"Ups no correct answer was selected! \\n Program will Exit now\")\n"
      ]
    }
  ]
}