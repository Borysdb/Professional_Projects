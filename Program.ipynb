{
  "nbformat": 4,
  "nbformat_minor": 0,
  "metadata": {
    "colab": {
      "provenance": [],
      "collapsed_sections": [],
      "include_colab_link": true
    },
    "kernelspec": {
      "name": "python3",
      "display_name": "Python 3"
    },
    "language_info": {
      "name": "python"
    }
  },
  "cells": [
    {
      "cell_type": "markdown",
      "metadata": {
        "id": "view-in-github",
        "colab_type": "text"
      },
      "source": [
        "<a href=\"https://colab.research.google.com/github/Borysdb/Project_1_Password_Generator_in_Python/blob/main/Program.ipynb\" target=\"_parent\"><img src=\"https://colab.research.google.com/assets/colab-badge.svg\" alt=\"Open In Colab\"/></a>"
      ]
    },
    {
      "cell_type": "markdown",
      "source": [
        "Text Space"
      ],
      "metadata": {
        "id": "RZz9Ps6PyBrU"
      }
    },
    {
      "cell_type": "code",
      "execution_count": null,
      "metadata": {
        "colab": {
          "base_uri": "https://localhost:8080/"
        },
        "id": "djpSKM98x0LI",
        "outputId": "eec6f60d-47d2-43cf-f6cb-3318ed29b984"
      },
      "outputs": [
        {
          "output_type": "stream",
          "name": "stdout",
          "text": [
            "Hello Grandma! \n",
            "\n",
            "We are so sorry your European Union account was hacked! \n",
            "We'll create a new STRONG password for you! ❤❤❤❤\n",
            "\n",
            "\n",
            "Please provide your username (so we can exclude it from our calculations): \n",
            "Your username is:  \n",
            "\n",
            "\n"
          ]
        }
      ],
      "source": [
        "# Program to Generate Strong Random Password\n",
        "# Main customer of aplication -> Grandma\n",
        "\n",
        "from random import Random\n",
        "from random import choice\n",
        "from itertools import zip_longest\n",
        "\n",
        "text1 = (\"Hello Grandma! \\n\\nWe are so sorry your European Union account was hacked! \\nWe'll create a new STRONG password for you! ❤❤❤❤\")\n",
        "print(text1)\n",
        "\n",
        "print(\"\\n\")\n",
        "\n",
        "name = input(\"Please provide your username (so we can exclude it from our calculations): \")\n",
        "\n",
        "print(\"Your username is: \",name)\n",
        "\n",
        "print(\"\\n\")\n",
        "\n",
        "s=+True\n",
        "while s==True:\n",
        "#Word Error check\n",
        "   word = input(\"Thank you, please provide a memorable WORD (maximum 8 letters) \\n-> We will use it to create your PASSWORD: \")\n",
        "\n",
        "   if word.isalpha() and len(word) <= 8:\n",
        "       print(\"Wrrrr \\n Brrrr \\n Processing your request... \\nVoila!\")\n",
        "       s=False\n",
        "\n",
        "   elif word.isnumeric:\n",
        "       print(\"Oh No! Word should be only letters, and a max of 8! Please try again: \")\n",
        "s2=+True\n",
        "\n",
        "print(input(\"Thank you, please provide a year (max 4 digits) that is significant for you :) \\n-> We will use it to create your PASSWORD: \"))\n",
        "year = input(\"Thank you, please provide a year (max 4 digits) that is significant for you :) \\n-> We will use it to create your PASSWORD: \")\n",
        "print(\"\\n\")\n",
        "word2 = ''.join(choice((str.upper, str.lower))(w) for w in word)\n",
        "while s2==True:\n",
        "  if year.isdigit() and len(year) <= 4:\n",
        "    print(\"Wrrrr \\n Brrrr \\n Processing your request... \\nVoila!\")\n",
        "    s2=False\n",
        "  elif year.isalpha:\n",
        "    input(\"Oh No! Year should be only digits, and a max of 4! Please try again: \")\n",
        "  elif len(year) > 4:\n",
        "    input(\"Oh No! Year should be only digits, and a max of 4! Please try again: \")\n",
        "#Create list of memorable word + memorable year\n",
        "plist = list(word2 + year)\n",
        "#Merge the two lists and alternate numbers with letters\n",
        "num_list = sorted(filter(str.isnumeric, plist), key = lambda sub: int(sub))\n",
        "chr_list = sorted(filter(str.isalpha, plist))\n",
        "res = [ele for sub in zip_longest(num_list, chr_list)\n",
        "  for ele in sub if ele]\n",
        "pstring = \"\".join(res)\n",
        "print(\"Perfect, we would like to present your new, super-secure PASSWORD: \"+ pstring)\n",
        "print(\"\\n\")\n",
        "#word_capitalized = ''.join(choice((str.upper, str.lower))(c) for c in word)\n",
        "\n",
        "#print(word_capitalized)\n",
        "\n",
        "\n",
        "\n",
        "\n",
        "\n",
        "\n",
        "\n",
        "\n",
        "\n",
        "#print(input(\"Thank you, please provide a year (max 4 digits) that is significant for you :) \\n-> We will use it to create your PASSWORD: \"))\n",
        "\n",
        "#print(\"\\n\")\n",
        "\n",
        "#Below to be printed after both word and number variables are provided correctly by input\n",
        "#text2 = \"Print: Wrrr \\nBrrrr \\nBum bam bum\"\n",
        "#print(text2)"
      ]
    },
    {
      "cell_type": "code",
      "source": [
        "\"\"\"\n",
        "#Year Error check\n",
        "if year.isdigit() and len(year) <= 4:\n",
        "  print(\"Wrrrr \\n Brrrr \\n Processing your request... \\nVoila!\")\n",
        "elif year.isdigit(False) and len(year) > 4:\n",
        "  input(\"Oh No! Year should be only digits, and a max of 4! Please try again: \")\n",
        "\n",
        "\n",
        "\n",
        "\"\"\""
      ],
      "metadata": {
        "id": "CND3YEoHNKmh"
      },
      "execution_count": null,
      "outputs": []
    }
  ]
}